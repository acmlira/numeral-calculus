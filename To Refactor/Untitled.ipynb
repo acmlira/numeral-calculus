{
 "cells": [
  {
   "cell_type": "code",
   "execution_count": 39,
   "metadata": {},
   "outputs": [],
   "source": [
    "def mpf(fi, x0, E, iterMax=100):\n",
    "    if(abs(f(x0)) < E):\n",
    "        return Exception\n",
    "    k = 1\n",
    "    print(\"x aprox\\t\\t\\tf\\t\\t\\tf'\\t\\t\\tk\")\n",
    "    while k < iterMax:\n",
    "\n",
    "        x1 = fi(x0)\n",
    "        k += 1\n",
    "        \n",
    "        print(\"%e\\t\\t%e\\t\\t%e\\t\\t%e\" % (x1,  f(x1), flin(x1), k))\n",
    "        \n",
    "        if (abs(f(x1)) < E):\n",
    "            break \n",
    "            \n",
    "        x0 = x1\n",
    "        \n",
    "        \n",
    "        if (k == iterMax):\n",
    "            return Exception\n",
    "    return x0"
   ]
  },
  {
   "cell_type": "code",
   "execution_count": 40,
   "metadata": {},
   "outputs": [],
   "source": [
    "def newton(f, flin, x0, E, iterMax=100):\n",
    "    if(abs(f(x0)) < E):\n",
    "        return Exception\n",
    "    k = 1\n",
    "    print(\"x aprox\\t\\t\\tf\\t\\t\\tf'\\t\\t\\tk\")\n",
    "    while k < iterMax:\n",
    "\n",
    "        x1 = x0 - (f(x0)/flin(x0))\n",
    "        k += 1\n",
    "        \n",
    "        print(\"%e\\t\\t%e\\t\\t%e\\t\\t%e\" % (x1,  f(x1), flin(x1), k))\n",
    "        \n",
    "        if (abs(f(x1)) < E):\n",
    "            break \n",
    "            \n",
    "        x0 = x1\n",
    "        \n",
    "        \n",
    "        if (k == iterMax):\n",
    "            return Exception\n",
    "    return x0"
   ]
  },
  {
   "cell_type": "code",
   "execution_count": 50,
   "metadata": {},
   "outputs": [],
   "source": [
    "def secante(f, x0, x1, E, iterMax=100):\n",
    "    if(abs(f(x0)) < E):\n",
    "        return Exception\n",
    "    k = 1\n",
    "    print(\"x aprox\\t\\t\\tf\\t\\t\\tf'\\t\\t\\tk\")\n",
    "    while k < iterMax:\n",
    "        d = (f(x1) - f(x0)) / (x1 - x0)\n",
    "        \n",
    "        x2 = x1 - (f(x1)/d)\n",
    "        k += 1\n",
    "        \n",
    "        print(\"%e\\t\\t%e\\t\\t%e\\t\\t%e\" % (x1,  f(x1), d, k))\n",
    "        \n",
    "        if (abs(f(x2)) < E):\n",
    "            break \n",
    "            \n",
    "        x0 = x1\n",
    "        x1 = x2\n",
    "        \n",
    "        if (k == iterMax):\n",
    "            return Exception\n",
    "    return x1"
   ]
  },
  {
   "cell_type": "code",
   "execution_count": 57,
   "metadata": {},
   "outputs": [],
   "source": [
    "from __future__ import division\n",
    "\n",
    "def f(x):\n",
    "    return x**3 - 9*x +3\n",
    "\n",
    "def flin(x):\n",
    "    return 3*x**2 - 9\n",
    "\n",
    "def fi(x):\n",
    "    return (x + 1)**(1/3)\n",
    "\n",
    "a = [1, -1, -1]\n",
    "\n",
    "x0 = 0\n",
    "x1 = 1\n",
    "E = 0.0005"
   ]
  },
  {
   "cell_type": "code",
   "execution_count": 58,
   "metadata": {},
   "outputs": [
    {
     "name": "stdout",
     "output_type": "stream",
     "text": [
      "x aprox\t\t\tf\t\t\tf'\t\t\tk\n",
      "1.000000e+00\t\t-5.000000e+00\t\t-8.000000e+00\t\t2.000000e+00\n",
      "3.750000e-01\t\t-3.222656e-01\t\t-7.484375e+00\t\t3.000000e+00\n",
      "3.319415e-01\t\t4.910114e-02\t\t-8.624712e+00\t\t4.000000e+00\n"
     ]
    },
    {
     "data": {
      "text/plain": [
       "0.33194154488517746"
      ]
     },
     "execution_count": 58,
     "metadata": {},
     "output_type": "execute_result"
    }
   ],
   "source": [
    "secante(f, x0, x1, E)"
   ]
  },
  {
   "cell_type": "code",
   "execution_count": 52,
   "metadata": {},
   "outputs": [
    {
     "ename": "NameError",
     "evalue": "name 'x0mpf' is not defined",
     "output_type": "error",
     "traceback": [
      "\u001b[1;31m---------------------------------------------------------------------------\u001b[0m",
      "\u001b[1;31mNameError\u001b[0m                                 Traceback (most recent call last)",
      "\u001b[1;32m<ipython-input-52-cc02c5763a6f>\u001b[0m in \u001b[0;36m<module>\u001b[1;34m()\u001b[0m\n\u001b[1;32m----> 1\u001b[1;33m \u001b[0mmpf\u001b[0m\u001b[1;33m(\u001b[0m\u001b[0mfi\u001b[0m\u001b[1;33m,\u001b[0m \u001b[0mx0mpf\u001b[0m\u001b[1;33m,\u001b[0m \u001b[0mE\u001b[0m\u001b[1;33m)\u001b[0m\u001b[1;33m\u001b[0m\u001b[0m\n\u001b[0m",
      "\u001b[1;31mNameError\u001b[0m: name 'x0mpf' is not defined"
     ]
    }
   ],
   "source": [
    "mpf(fi, x0mpf, E)"
   ]
  },
  {
   "cell_type": "code",
   "execution_count": 53,
   "metadata": {},
   "outputs": [
    {
     "name": "stdout",
     "output_type": "stream",
     "text": [
      "x aprox\t\t\tf\t\t\tf'\t\t\tk\n",
      "-1.000000e+00\t\t-1.000000e+00\t\t2.000000e+00\t\t2.000000e+00\n",
      "-5.000000e-01\t\t-6.250000e-01\t\t-2.500000e-01\t\t3.000000e+00\n",
      "-3.000000e+00\t\t-2.500000e+01\t\t2.600000e+01\t\t4.000000e+00\n",
      "-2.038462e+00\t\t-7.432010e+00\t\t1.146598e+01\t\t5.000000e+00\n",
      "-1.390282e+00\t\t-2.296973e+00\t\t4.798653e+00\t\t6.000000e+00\n",
      "-9.116119e-01\t\t-8.459706e-01\t\t1.493109e+00\t\t7.000000e+00\n",
      "-3.450285e-01\t\t-6.960453e-01\t\t-6.428660e-01\t\t8.000000e+00\n",
      "-1.427751e+00\t\t-2.482679e+00\t\t5.115416e+00\t\t9.000000e+00\n",
      "-9.424179e-01\t\t-8.945920e-01\t\t1.664455e+00\t\t1.000000e+01\n",
      "-4.049494e-01\t\t-6.614559e-01\t\t-5.080481e-01\t\t1.100000e+01\n",
      "-1.706905e+00\t\t-4.266202e+00\t\t7.740570e+00\t\t1.200000e+01\n",
      "-1.155756e+00\t\t-1.388072e+00\t\t3.007318e+00\t\t1.300000e+01\n",
      "-6.941918e-01\t\t-6.403408e-01\t\t4.457068e-01\t\t1.400000e+01\n",
      "7.424943e-01\t\t-1.333159e+00\t\t6.538934e-01\t\t1.500000e+01\n",
      "2.781296e+00\t\t1.773372e+01\t\t2.220682e+01\t\t1.600000e+01\n",
      "1.982725e+00\t\t4.811763e+00\t\t1.079360e+01\t\t1.700000e+01\n",
      "1.536927e+00\t\t1.093519e+00\t\t6.086437e+00\t\t1.800000e+01\n",
      "1.357262e+00\t\t1.430341e-01\t\t4.526484e+00\t\t1.900000e+01\n",
      "1.325663e+00\t\t4.034214e-03\t\t4.272148e+00\t\t2.000000e+01\n",
      "1.324719e+00\t\t3.545493e-06\t\t4.264640e+00\t\t2.100000e+01\n",
      "1.324718e+00\t\t2.747136e-12\t\t4.264633e+00\t\t2.200000e+01\n"
     ]
    },
    {
     "data": {
      "text/plain": [
       "1.3247187886152572"
      ]
     },
     "execution_count": 53,
     "metadata": {},
     "output_type": "execute_result"
    }
   ],
   "source": [
    "newton(f, flin, x0, E)"
   ]
  },
  {
   "cell_type": "code",
   "execution_count": null,
   "metadata": {
    "collapsed": true
   },
   "outputs": [],
   "source": []
  }
 ],
 "metadata": {
  "kernelspec": {
   "display_name": "Python 3",
   "language": "python",
   "name": "python3"
  },
  "language_info": {
   "codemirror_mode": {
    "name": "ipython",
    "version": 3
   },
   "file_extension": ".py",
   "mimetype": "text/x-python",
   "name": "python",
   "nbconvert_exporter": "python",
   "pygments_lexer": "ipython3",
   "version": "3.6.5"
  }
 },
 "nbformat": 4,
 "nbformat_minor": 2
}
